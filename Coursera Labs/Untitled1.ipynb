{
 "cells": [
  {
   "cell_type": "code",
   "execution_count": 30,
   "metadata": {},
   "outputs": [],
   "source": [
    "import pandas as pd\n",
    "import numpy as np\n",
    "import os"
   ]
  },
  {
   "cell_type": "code",
   "execution_count": 31,
   "metadata": {},
   "outputs": [
    {
     "name": "stdout",
     "output_type": "stream",
     "text": [
      "Name                                                    Brandon\n",
      "Specialization    Machine Learing/Data Science/Data Engineering\n",
      "age                                                          43\n",
      "Location                                             Dallas, Tx\n",
      "dtype: object\n"
     ]
    }
   ],
   "source": [
    "myList = ['Brandon', 'Machine Learing/Data Science/Data Engineering', '43', 'Dallas, Tx']\n",
    "labels = ['Name', 'Specialization', 'age', 'Location']\n",
    "new_series = pd.Series(myList, labels)\n",
    "print(new_series)"
   ]
  },
  {
   "cell_type": "code",
   "execution_count": 32,
   "metadata": {},
   "outputs": [
    {
     "data": {
      "text/plain": [
       "0                                          Brandon\n",
       "1    Machine Learing/Data Science/Data Engineering\n",
       "2                                               43\n",
       "3                                       Dallas, Tx\n",
       "dtype: object"
      ]
     },
     "execution_count": 32,
     "metadata": {},
     "output_type": "execute_result"
    }
   ],
   "source": [
    "pd.Series(myList)"
   ]
  },
  {
   "cell_type": "code",
   "execution_count": 33,
   "metadata": {},
   "outputs": [
    {
     "name": "stdout",
     "output_type": "stream",
     "text": [
      "Name                                                     Brandon\n",
      "Specialization    Machine Learning/Data Science/Data Engineering\n",
      "Age                                                           43\n",
      "Location                                              Dallas, Tx\n",
      "dtype: object\n"
     ]
    }
   ],
   "source": [
    "my_dictionary = {'Name':'Brandon', 'Specialization': 'Machine Learning/Data Science/Data Engineering', 'Age': '43', 'Location': 'Dallas, Tx'}\n",
    "my_series = pd.Series(my_dictionary)\n",
    "print(my_series)"
   ]
  },
  {
   "cell_type": "code",
   "execution_count": 34,
   "metadata": {},
   "outputs": [
    {
     "name": "stdout",
     "output_type": "stream",
     "text": [
      "Brandon\n",
      "Machine Learning/Data Science/Data Engineering\n",
      "43\n"
     ]
    }
   ],
   "source": [
    "print(my_series['Name'])\n",
    "print(my_series['Specialization'])\n",
    "print(my_series['Age'])"
   ]
  },
  {
   "cell_type": "code",
   "execution_count": 51,
   "metadata": {},
   "outputs": [
    {
     "name": "stdout",
     "output_type": "stream",
     "text": [
      "C:\\Users\\htu\\OneDrive - AL-Hussien bin Abdullah Technical University\\Desktop\\labs\n"
     ]
    }
   ],
   "source": [
    "print(os.getcwd())"
   ]
  },
  {
   "cell_type": "code",
   "execution_count": 65,
   "metadata": {},
   "outputs": [
    {
     "data": {
      "text/plain": [
       "['.ipynb_checkpoints',\n",
       " '1.1_1Dtensors_v2.ipynb',\n",
       " '1.1_2 Two-Dimensional Tensors_v2.ipynb',\n",
       " '1.3.1_simple_data_set_v2.ipynb',\n",
       " '1.3.2_Datasets_and_transforms.ipynb',\n",
       " '2.1Prediction1Dregression_v3.ipynb',\n",
       " '2.2_linear_regression_one_parameter_v3.ipynb',\n",
       " '2.3_training_slope_and_bias_v3.ipynb',\n",
       " '3.1_stochastic_gradient_descent_v3.ipynb',\n",
       " '3.2_mini-batch_gradient_descent_v3.ipynb',\n",
       " '3.3.1 softmax_in_one_dimension_v2.ipynb',\n",
       " '3.3.2 lab_predicting _MNIST_using_Softmax_v2.ipynb',\n",
       " '3.3_PyTorchway_v3.ipynb',\n",
       " '3.6_training_and_validation_v3.ipynb',\n",
       " '4.1.1simple1hiddenlayer_v2.ipynb',\n",
       " '4.1.2xor_v2.ipynb',\n",
       " '4.1.3.one layer neural network _MNIST.ipynb',\n",
       " '4.1.multiple_linear_regression_prediction_v2 (1).ipynb',\n",
       " '4.2.multiple_linear_regression_training_v2.ipynb',\n",
       " '4.3.1lactivationfuction_v2.ipynb',\n",
       " '4.3.2mist1layer_v2.ipynb',\n",
       " '4.3.multi-target_linear_regression (1).ipynb',\n",
       " '4.4.training_multiple_output_linear_regression.ipynb',\n",
       " '5.1logistic_regression_prediction_v2.ipynb',\n",
       " '5.2.2bad_inshilization_logistic_regression_with_mean_square_error_v2.ipynb',\n",
       " '5.3_cross_entropy_logistic_regression_v2.ipynb',\n",
       " '5.4softmax_in_one_dimension_v2.ipynb',\n",
       " '6.2lab_predicting _MNIST_using_Softmax_v2.ipynb',\n",
       " '7.1_simple1hiddenlayer.ipynb',\n",
       " '7.2multiple_neurons.ipynb',\n",
       " '7.3xor_v2.ipynb',\n",
       " '7.4one_layer_neural_network_MNIST.ipynb',\n",
       " '7.5.1activationfuction_v2.ipynb',\n",
       " '8.1.1mist2layer_v2.ipynb',\n",
       " '8.1.2mulitclassspiralrulu_v2.ipynb',\n",
       " '8.2.1dropoutPredictin_v2.ipynb',\n",
       " '8.2.2dropoutRegression_v2.ipynb',\n",
       " '8.3.1.initializationsame.ipynb',\n",
       " '8.3.2Xaviermist1layer_v2.ipynb',\n",
       " '8.4.1_MomentumwithPolynomialFunctions_v2.ipynb',\n",
       " '8.4.2_NeuralNetworkswithMomentum_v2.ipynb',\n",
       " '8.5.1BachNorm_v2.ipynb',\n",
       " '9.1What_is_Convolution.ipynb',\n",
       " '9.2Activation_max_pooling.ipynb',\n",
       " '9.3Multiple Channel Convolution.ipynb',\n",
       " '9.4.1ConvolutionalNeralNetworkSimple example.ipynb',\n",
       " '9.4.2CNN_Small_Image.ipynb',\n",
       " '9.4.3CNN_Small_Image_batch.ipynb',\n",
       " 'a_tfstart.ipynb',\n",
       " 'Coursera-IBM-AI-Engineering-Capstone-master',\n",
       " 'Coursera-IBM-AI-Engineering-Capstone-master.zip',\n",
       " 'da4e06fbc7da73da9951e6288be23332-03d99c1b604af95ea654d3a55db4de0bdf96f397',\n",
       " 'da4e06fbc7da73da9951e6288be23332-03d99c1b604af95ea654d3a55db4de0bdf96f397.zip',\n",
       " 'data',\n",
       " 'DL0321EN-1-1-Loading-Data-py-v1.0.ipynb',\n",
       " 'DL0321EN-2-1-Data-Preparation-py-v1.0.ipynb',\n",
       " 'DL0321EN-4-1-Comparing-Models-py-v1.0.ipynb',\n",
       " 'ML0120EN-1.1-Review-TensorFlow-Hello-World.ipynb',\n",
       " 'ML0120EN-1.2-Review-LinearRegressionwithTensorFlow.ipynb',\n",
       " 'ML0120EN-1.4-Review-LogisticRegressionwithTensorFlow.ipynb',\n",
       " 'ML0120EN-2.1-Review-Understanding_Convolutions.ipynb',\n",
       " 'ML0120EN-2.2-Review-CNN-MNIST-Dataset.ipynb',\n",
       " 'ML0120EN-3.1-Reveiw-LSTM-basics.ipynb',\n",
       " 'ML0120EN-3.2-Review-LSTM-LanguageModelling.ipynb',\n",
       " 'ML0120EN-4.1-Review-RBMMNIST.ipynb',\n",
       " 'ML0120EN-4.2-Review-CollaborativeFilteringwithRBM.ipynb',\n",
       " 'ML0120EN-5.1-Review-Autoencoders.ipynb',\n",
       " 'PandasPracticeFile.csv',\n",
       " 'Python_Basics_With_Numpy_v3a.ipynb',\n",
       " 'Untitled.ipynb',\n",
       " 'Untitled1.ipynb']"
      ]
     },
     "execution_count": 65,
     "metadata": {},
     "output_type": "execute_result"
    }
   ],
   "source": [
    "os.listdir(os.getcwd())"
   ]
  },
  {
   "cell_type": "code",
   "execution_count": 69,
   "metadata": {},
   "outputs": [],
   "source": [
    "df = pd.read_csv('PandasPracticeFile.csv')"
   ]
  },
  {
   "cell_type": "code",
   "execution_count": 73,
   "metadata": {},
   "outputs": [
    {
     "data": {
      "text/html": [
       "<div>\n",
       "<style scoped>\n",
       "    .dataframe tbody tr th:only-of-type {\n",
       "        vertical-align: middle;\n",
       "    }\n",
       "\n",
       "    .dataframe tbody tr th {\n",
       "        vertical-align: top;\n",
       "    }\n",
       "\n",
       "    .dataframe thead th {\n",
       "        text-align: right;\n",
       "    }\n",
       "</style>\n",
       "<table border=\"1\" class=\"dataframe\">\n",
       "  <thead>\n",
       "    <tr style=\"text-align: right;\">\n",
       "      <th></th>\n",
       "      <th>Full Name</th>\n",
       "      <th>User Action</th>\n",
       "      <th>Timestamp</th>\n",
       "    </tr>\n",
       "  </thead>\n",
       "  <tbody>\n",
       "    <tr>\n",
       "      <td>0</td>\n",
       "      <td>Brandon.Copeland</td>\n",
       "      <td>Joined</td>\n",
       "      <td>6/2/2020, 11:56:46 AM</td>\n",
       "    </tr>\n",
       "    <tr>\n",
       "      <td>1</td>\n",
       "      <td>Mohammad</td>\n",
       "      <td>Joined</td>\n",
       "      <td>6/2/2020, 11:56:59 AM</td>\n",
       "    </tr>\n",
       "    <tr>\n",
       "      <td>2</td>\n",
       "      <td>suhib</td>\n",
       "      <td>Joined</td>\n",
       "      <td>6/2/2020, 11:57:17 AM</td>\n",
       "    </tr>\n",
       "    <tr>\n",
       "      <td>3</td>\n",
       "      <td>AHMAD</td>\n",
       "      <td>Joined</td>\n",
       "      <td>6/2/2020, 11:57:22 AM</td>\n",
       "    </tr>\n",
       "    <tr>\n",
       "      <td>4</td>\n",
       "      <td>AbdAllah</td>\n",
       "      <td>Joined</td>\n",
       "      <td>6/2/2020, 11:58:02 AM</td>\n",
       "    </tr>\n",
       "  </tbody>\n",
       "</table>\n",
       "</div>"
      ],
      "text/plain": [
       "          Full Name User Action              Timestamp\n",
       "0  Brandon.Copeland      Joined  6/2/2020, 11:56:46 AM\n",
       "1          Mohammad      Joined  6/2/2020, 11:56:59 AM\n",
       "2             suhib      Joined  6/2/2020, 11:57:17 AM\n",
       "3             AHMAD      Joined  6/2/2020, 11:57:22 AM\n",
       "4          AbdAllah      Joined  6/2/2020, 11:58:02 AM"
      ]
     },
     "execution_count": 73,
     "metadata": {},
     "output_type": "execute_result"
    }
   ],
   "source": [
    "df.head()"
   ]
  },
  {
   "cell_type": "code",
   "execution_count": 74,
   "metadata": {},
   "outputs": [
    {
     "data": {
      "text/html": [
       "<div>\n",
       "<style scoped>\n",
       "    .dataframe tbody tr th:only-of-type {\n",
       "        vertical-align: middle;\n",
       "    }\n",
       "\n",
       "    .dataframe tbody tr th {\n",
       "        vertical-align: top;\n",
       "    }\n",
       "\n",
       "    .dataframe thead th {\n",
       "        text-align: right;\n",
       "    }\n",
       "</style>\n",
       "<table border=\"1\" class=\"dataframe\">\n",
       "  <thead>\n",
       "    <tr style=\"text-align: right;\">\n",
       "      <th></th>\n",
       "      <th>Full Name</th>\n",
       "      <th>User Action</th>\n",
       "      <th>Timestamp</th>\n",
       "    </tr>\n",
       "  </thead>\n",
       "  <tbody>\n",
       "    <tr>\n",
       "      <td>45</td>\n",
       "      <td>ammar</td>\n",
       "      <td>Left</td>\n",
       "      <td>6/2/2020, 12:19:36 PM</td>\n",
       "    </tr>\n",
       "    <tr>\n",
       "      <td>46</td>\n",
       "      <td>ammar</td>\n",
       "      <td>Joined</td>\n",
       "      <td>6/2/2020, 12:19:39 PM</td>\n",
       "    </tr>\n",
       "    <tr>\n",
       "      <td>47</td>\n",
       "      <td>Ahmed</td>\n",
       "      <td>Joined</td>\n",
       "      <td>6/2/2020, 12:25:34 PM</td>\n",
       "    </tr>\n",
       "    <tr>\n",
       "      <td>48</td>\n",
       "      <td>Ahmed</td>\n",
       "      <td>Left</td>\n",
       "      <td>6/2/2020, 12:25:35 PM</td>\n",
       "    </tr>\n",
       "    <tr>\n",
       "      <td>49</td>\n",
       "      <td>Ahmed</td>\n",
       "      <td>Joined</td>\n",
       "      <td>6/2/2020, 12:51:06 PM</td>\n",
       "    </tr>\n",
       "  </tbody>\n",
       "</table>\n",
       "</div>"
      ],
      "text/plain": [
       "   Full Name User Action              Timestamp\n",
       "45     ammar        Left  6/2/2020, 12:19:36 PM\n",
       "46     ammar      Joined  6/2/2020, 12:19:39 PM\n",
       "47     Ahmed      Joined  6/2/2020, 12:25:34 PM\n",
       "48     Ahmed        Left  6/2/2020, 12:25:35 PM\n",
       "49     Ahmed      Joined  6/2/2020, 12:51:06 PM"
      ]
     },
     "execution_count": 74,
     "metadata": {},
     "output_type": "execute_result"
    }
   ],
   "source": [
    "df.tail()"
   ]
  },
  {
   "cell_type": "code",
   "execution_count": 76,
   "metadata": {},
   "outputs": [
    {
     "data": {
      "text/plain": [
       "(50, 3)"
      ]
     },
     "execution_count": 76,
     "metadata": {},
     "output_type": "execute_result"
    }
   ],
   "source": [
    "df.shape"
   ]
  },
  {
   "cell_type": "code",
   "execution_count": 78,
   "metadata": {},
   "outputs": [
    {
     "data": {
      "text/html": [
       "<div>\n",
       "<style scoped>\n",
       "    .dataframe tbody tr th:only-of-type {\n",
       "        vertical-align: middle;\n",
       "    }\n",
       "\n",
       "    .dataframe tbody tr th {\n",
       "        vertical-align: top;\n",
       "    }\n",
       "\n",
       "    .dataframe thead th {\n",
       "        text-align: right;\n",
       "    }\n",
       "</style>\n",
       "<table border=\"1\" class=\"dataframe\">\n",
       "  <thead>\n",
       "    <tr style=\"text-align: right;\">\n",
       "      <th></th>\n",
       "      <th>Full Name</th>\n",
       "      <th>User Action</th>\n",
       "      <th>Timestamp</th>\n",
       "    </tr>\n",
       "  </thead>\n",
       "  <tbody>\n",
       "    <tr>\n",
       "      <td>0</td>\n",
       "      <td>False</td>\n",
       "      <td>False</td>\n",
       "      <td>False</td>\n",
       "    </tr>\n",
       "    <tr>\n",
       "      <td>1</td>\n",
       "      <td>False</td>\n",
       "      <td>False</td>\n",
       "      <td>False</td>\n",
       "    </tr>\n",
       "    <tr>\n",
       "      <td>2</td>\n",
       "      <td>False</td>\n",
       "      <td>False</td>\n",
       "      <td>False</td>\n",
       "    </tr>\n",
       "    <tr>\n",
       "      <td>3</td>\n",
       "      <td>False</td>\n",
       "      <td>False</td>\n",
       "      <td>False</td>\n",
       "    </tr>\n",
       "    <tr>\n",
       "      <td>4</td>\n",
       "      <td>False</td>\n",
       "      <td>False</td>\n",
       "      <td>False</td>\n",
       "    </tr>\n",
       "  </tbody>\n",
       "</table>\n",
       "</div>"
      ],
      "text/plain": [
       "   Full Name  User Action  Timestamp\n",
       "0      False        False      False\n",
       "1      False        False      False\n",
       "2      False        False      False\n",
       "3      False        False      False\n",
       "4      False        False      False"
      ]
     },
     "execution_count": 78,
     "metadata": {},
     "output_type": "execute_result"
    }
   ],
   "source": [
    "df.isnull().head()"
   ]
  },
  {
   "cell_type": "code",
   "execution_count": 79,
   "metadata": {},
   "outputs": [
    {
     "data": {
      "text/plain": [
       "Full Name      0\n",
       "User Action    0\n",
       "Timestamp      0\n",
       "dtype: int64"
      ]
     },
     "execution_count": 79,
     "metadata": {},
     "output_type": "execute_result"
    }
   ],
   "source": [
    "df.isnull().sum()"
   ]
  },
  {
   "cell_type": "code",
   "execution_count": 80,
   "metadata": {},
   "outputs": [
    {
     "data": {
      "text/plain": [
       "<bound method DataFrame.info of            Full Name User Action              Timestamp\n",
       "0   Brandon.Copeland      Joined  6/2/2020, 11:56:46 AM\n",
       "1           Mohammad      Joined  6/2/2020, 11:56:59 AM\n",
       "2              suhib      Joined  6/2/2020, 11:57:17 AM\n",
       "3              AHMAD      Joined  6/2/2020, 11:57:22 AM\n",
       "4           AbdAllah      Joined  6/2/2020, 11:58:02 AM\n",
       "5           AbdAllah        Left  6/2/2020, 12:27:10 PM\n",
       "6           AbdAllah      Joined  6/2/2020, 12:55:44 PM\n",
       "7             Saleem      Joined  6/2/2020, 11:58:24 AM\n",
       "8              Ammar      Joined  6/2/2020, 11:59:01 AM\n",
       "9              Ammar        Left  6/2/2020, 12:14:48 PM\n",
       "10             Ammar      Joined  6/2/2020, 12:15:05 PM\n",
       "11             Ammar        Left  6/2/2020, 12:17:44 PM\n",
       "12             Ammar      Joined  6/2/2020, 12:18:25 PM\n",
       "13             Ammar        Left  6/2/2020, 12:19:14 PM\n",
       "14             Ammar      Joined  6/2/2020, 12:55:48 PM\n",
       "15            Mu'taz      Joined  6/2/2020, 11:59:13 AM\n",
       "16            Mu'taz        Left   6/2/2020, 1:02:00 PM\n",
       "17            Mu'taz      Joined   6/2/2020, 1:51:05 PM\n",
       "18            Mu'taz        Left   6/2/2020, 1:53:06 PM\n",
       "19     Khalid Waleed      Joined  6/2/2020, 12:00:19 PM\n",
       "20     Khalid Waleed        Left  6/2/2020, 12:14:43 PM\n",
       "21     Khalid Waleed      Joined  6/2/2020, 12:14:50 PM\n",
       "22     Khalid Waleed        Left  6/2/2020, 12:55:53 PM\n",
       "23     Khalid Waleed      Joined  6/2/2020, 12:56:02 PM\n",
       "24            Obadah      Joined  6/2/2020, 12:00:21 PM\n",
       "25            Obadah        Left   6/2/2020, 1:31:30 PM\n",
       "26           Mahmoud      Joined  6/2/2020, 12:00:27 PM\n",
       "27           Mahmoud        Left  6/2/2020, 12:01:24 PM\n",
       "28           Mahmoud      Joined  6/2/2020, 12:04:11 PM\n",
       "29           Mahmoud        Left  6/2/2020, 12:08:48 PM\n",
       "30    Abdulsalam ali      Joined  6/2/2020, 12:00:29 PM\n",
       "31    Abdulsalam ali        Left  6/2/2020, 12:34:47 PM\n",
       "32    Abdulsalam ali      Joined  6/2/2020, 12:50:33 PM\n",
       "33    Abdulsalam ali        Left   6/2/2020, 1:23:49 PM\n",
       "34    Abdulsalam ali      Joined   6/2/2020, 1:48:03 PM\n",
       "35            yazeed      Joined  6/2/2020, 12:00:32 PM\n",
       "36            yazeed        Left  6/2/2020, 12:01:33 PM\n",
       "37            yazeed      Joined  6/2/2020, 12:07:56 PM\n",
       "38   Sanabel Jaafreh      Joined  6/2/2020, 12:01:04 PM\n",
       "39   Sanabel Jaafreh        Left  6/2/2020, 12:18:04 PM\n",
       "40   Sanabel Jaafreh      Joined  6/2/2020, 12:37:06 PM\n",
       "41   Sanabel Jaafreh        Left   6/2/2020, 1:07:29 PM\n",
       "42   Sanabel Jaafreh      Joined   6/2/2020, 1:07:44 PM\n",
       "43           Ibrahim      Joined  6/2/2020, 12:04:10 PM\n",
       "44             ammar      Joined  6/2/2020, 12:17:17 PM\n",
       "45             ammar        Left  6/2/2020, 12:19:36 PM\n",
       "46             ammar      Joined  6/2/2020, 12:19:39 PM\n",
       "47             Ahmed      Joined  6/2/2020, 12:25:34 PM\n",
       "48             Ahmed        Left  6/2/2020, 12:25:35 PM\n",
       "49             Ahmed      Joined  6/2/2020, 12:51:06 PM>"
      ]
     },
     "execution_count": 80,
     "metadata": {},
     "output_type": "execute_result"
    }
   ],
   "source": [
    "df.info"
   ]
  },
  {
   "cell_type": "code",
   "execution_count": 82,
   "metadata": {},
   "outputs": [
    {
     "data": {
      "text/html": [
       "<div>\n",
       "<style scoped>\n",
       "    .dataframe tbody tr th:only-of-type {\n",
       "        vertical-align: middle;\n",
       "    }\n",
       "\n",
       "    .dataframe tbody tr th {\n",
       "        vertical-align: top;\n",
       "    }\n",
       "\n",
       "    .dataframe thead th {\n",
       "        text-align: right;\n",
       "    }\n",
       "</style>\n",
       "<table border=\"1\" class=\"dataframe\">\n",
       "  <thead>\n",
       "    <tr style=\"text-align: right;\">\n",
       "      <th></th>\n",
       "      <th>Full Name</th>\n",
       "      <th>User Action</th>\n",
       "      <th>Timestamp</th>\n",
       "    </tr>\n",
       "  </thead>\n",
       "  <tbody>\n",
       "    <tr>\n",
       "      <td>count</td>\n",
       "      <td>50</td>\n",
       "      <td>50</td>\n",
       "      <td>50</td>\n",
       "    </tr>\n",
       "    <tr>\n",
       "      <td>unique</td>\n",
       "      <td>17</td>\n",
       "      <td>2</td>\n",
       "      <td>50</td>\n",
       "    </tr>\n",
       "    <tr>\n",
       "      <td>top</td>\n",
       "      <td>Ammar</td>\n",
       "      <td>Joined</td>\n",
       "      <td>6/2/2020, 12:25:35 PM</td>\n",
       "    </tr>\n",
       "    <tr>\n",
       "      <td>freq</td>\n",
       "      <td>7</td>\n",
       "      <td>32</td>\n",
       "      <td>1</td>\n",
       "    </tr>\n",
       "  </tbody>\n",
       "</table>\n",
       "</div>"
      ],
      "text/plain": [
       "       Full Name User Action              Timestamp\n",
       "count         50          50                     50\n",
       "unique        17           2                     50\n",
       "top        Ammar      Joined  6/2/2020, 12:25:35 PM\n",
       "freq           7          32                      1"
      ]
     },
     "execution_count": 82,
     "metadata": {},
     "output_type": "execute_result"
    }
   ],
   "source": [
    "df.describe()"
   ]
  },
  {
   "cell_type": "code",
   "execution_count": null,
   "metadata": {},
   "outputs": [],
   "source": []
  }
 ],
 "metadata": {
  "kernelspec": {
   "display_name": "Python 3",
   "language": "python",
   "name": "python3"
  },
  "language_info": {
   "codemirror_mode": {
    "name": "ipython",
    "version": 3
   },
   "file_extension": ".py",
   "mimetype": "text/x-python",
   "name": "python",
   "nbconvert_exporter": "python",
   "pygments_lexer": "ipython3",
   "version": "3.7.4"
  }
 },
 "nbformat": 4,
 "nbformat_minor": 2
}
